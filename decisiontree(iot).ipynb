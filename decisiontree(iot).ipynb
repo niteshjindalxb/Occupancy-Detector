{
 "cells": [
  {
   "cell_type": "code",
   "execution_count": 3,
   "metadata": {},
   "outputs": [],
   "source": [
    "import numpy as np # linear algebra\n",
    "import pandas as pd # data processing, CSV file I/O (e.g. pd.read_csv)\n",
    "from sklearn import metrics\n",
    "from sklearn.model_selection import train_test_split\n",
    "from sklearn import tree\n"
   ]
  },
  {
   "cell_type": "code",
   "execution_count": 4,
   "metadata": {},
   "outputs": [],
   "source": [
    "df_train = pd.read_csv(\"datatraining.csv\")"
   ]
  },
  {
   "cell_type": "code",
   "execution_count": 5,
   "metadata": {},
   "outputs": [],
   "source": [
    "df_test = pd.read_csv(\"datatest2.csv\")"
   ]
  },
  {
   "cell_type": "code",
   "execution_count": 6,
   "metadata": {},
   "outputs": [
    {
     "name": "stdout",
     "output_type": "stream",
     "text": [
      "(8143, 7)\n",
      "(9752, 7)\n"
     ]
    }
   ],
   "source": [
    "print(df_train.shape)\n",
    "print(df_test.shape)"
   ]
  },
  {
   "cell_type": "code",
   "execution_count": 11,
   "metadata": {},
   "outputs": [
    {
     "name": "stdout",
     "output_type": "stream",
     "text": [
      "8143\n",
      "8143\n"
     ]
    }
   ],
   "source": [
    "X = []\n",
    "y = []\n",
    "for row in df_train.iterrows() :\n",
    "    occupancy = row[1][6] # label (the number visible in the image)\n",
    "    data = list(row[1][1:6]) # image information as list, without label\n",
    "    X.append(data)\n",
    "    y.append(occupancy)\n",
    "\n",
    "X = np.array(X)\n",
    "y = np.array(y)\n",
    "print(len(X))\n",
    "print(len(y))"
   ]
  },
  {
   "cell_type": "code",
   "execution_count": 12,
   "metadata": {},
   "outputs": [
    {
     "name": "stdout",
     "output_type": "stream",
     "text": [
      "5455 5455\n",
      "(5,)\n"
     ]
    }
   ],
   "source": [
    "X_train, X_test, y_train, y_test = train_test_split(X, y, test_size=0.33, random_state=42)\n",
    "print(len(X_train), len(y_train))\n",
    "print(X_train[1].shape)"
   ]
  },
  {
   "cell_type": "code",
   "execution_count": 18,
   "metadata": {},
   "outputs": [
    {
     "name": "stdout",
     "output_type": "stream",
     "text": [
      "[0 0 0 0 0 0 0 0 0 0 0 0 0 1 0 0 0 0 0 0] .....\n",
      "[0 0 0 0 0 0 0 0 0 0 0 0 0 1 0 0 0 0 0 0] .....\n",
      "0.9921875\n"
     ]
    }
   ],
   "source": [
    "clf = tree.DecisionTreeClassifier()\n",
    "clf = clf.fit(X_train, y_train)\n",
    "y_pred = clf.predict(X_test)\n",
    "print(y_pred[0:20], \".....\")\n",
    "print(y_test[0:20], \".....\")\n",
    "print(metrics.accuracy_score(y_test, y_pred))"
   ]
  },
  {
   "cell_type": "code",
   "execution_count": 19,
   "metadata": {},
   "outputs": [
    {
     "name": "stdout",
     "output_type": "stream",
     "text": [
      "9752\n",
      "9752\n"
     ]
    }
   ],
   "source": [
    "X_new = []\n",
    "y_new=[]\n",
    "for row in df_test.iterrows() :\n",
    "    occupancy=row[1][6]\n",
    "    data = list(row[1][1:6])\n",
    "    X_new.append(data)\n",
    "    y_new.append(occupancy)\n",
    "X_new = np.array(X_new)\n",
    "y_new = np.array(y_new)\n",
    "print(len(X_new))\n",
    "print(len(df_test))"
   ]
  },
  {
   "cell_type": "code",
   "execution_count": 20,
   "metadata": {},
   "outputs": [
    {
     "name": "stdout",
     "output_type": "stream",
     "text": [
      "[1 1 1 ... 1 1 1]\n",
      "[[2.17600000e+01 3.11333333e+01 4.37333333e+02 1.02966667e+03\n",
      "  5.02101089e-03]\n",
      " [2.17900000e+01 3.10000000e+01 4.37333333e+02 1.00000000e+03\n",
      "  5.00858127e-03]\n",
      " [2.17675000e+01 3.11225000e+01 4.34000000e+02 1.00375000e+03\n",
      "  5.02156913e-03]\n",
      " ...\n",
      " [2.08900000e+01 2.77450000e+01 4.23500000e+02 1.52150000e+03\n",
      "  4.23681810e-03]\n",
      " [2.08900000e+01 2.80225000e+01 4.18750000e+02 1.63200000e+03\n",
      "  4.27948547e-03]\n",
      " [2.10000000e+01 2.81000000e+01 4.09000000e+02 1.86400000e+03\n",
      "  4.32073200e-03]]\n"
     ]
    }
   ],
   "source": [
    "y_new_pred = clf.predict(X_new)\n",
    "print(y_new_pred)\n",
    "print(X_new)"
   ]
  },
  {
   "cell_type": "code",
   "execution_count": 16,
   "metadata": {},
   "outputs": [
    {
     "name": "stdout",
     "output_type": "stream",
     "text": [
      "0.9458572600492207\n"
     ]
    }
   ],
   "source": [
    "print(metrics.accuracy_score(y_new, y_new_pred))"
   ]
  },
  {
   "cell_type": "code",
   "execution_count": 17,
   "metadata": {},
   "outputs": [
    {
     "name": "stdout",
     "output_type": "stream",
     "text": [
      "[1 1 1 1 1]\n"
     ]
    }
   ],
   "source": [
    "y_new_pred = clf.predict(X_new[0:5][:])\n",
    "print(y_new_pred)"
   ]
  },
  {
   "cell_type": "code",
   "execution_count": 27,
   "metadata": {},
   "outputs": [
    {
     "data": {
      "text/plain": [
       "['occ_det.sav']"
      ]
     },
     "execution_count": 27,
     "metadata": {},
     "output_type": "execute_result"
    }
   ],
   "source": [
    "from sklearn.externals import joblib\n",
    "fn = \"occ_det.sav\"\n",
    "joblib.dump(clf, fn)"
   ]
  },
  {
   "cell_type": "code",
   "execution_count": 28,
   "metadata": {},
   "outputs": [],
   "source": [
    "model = joblib.load(fn)"
   ]
  },
  {
   "cell_type": "code",
   "execution_count": 29,
   "metadata": {},
   "outputs": [
    {
     "data": {
      "text/plain": [
       "array([1, 1, 1, 1, 1])"
      ]
     },
     "execution_count": 29,
     "metadata": {},
     "output_type": "execute_result"
    }
   ],
   "source": [
    "model.predict(X_new[0:5][:])"
   ]
  },
  {
   "cell_type": "code",
   "execution_count": null,
   "metadata": {},
   "outputs": [],
   "source": []
  }
 ],
 "metadata": {
  "kernelspec": {
   "display_name": "Python 3",
   "language": "python",
   "name": "python3"
  },
  "language_info": {
   "codemirror_mode": {
    "name": "ipython",
    "version": 3
   },
   "file_extension": ".py",
   "mimetype": "text/x-python",
   "name": "python",
   "nbconvert_exporter": "python",
   "pygments_lexer": "ipython3",
   "version": "3.7.3"
  }
 },
 "nbformat": 4,
 "nbformat_minor": 2
}
